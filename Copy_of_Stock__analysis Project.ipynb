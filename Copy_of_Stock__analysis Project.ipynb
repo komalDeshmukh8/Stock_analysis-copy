{
  "nbformat": 4,
  "nbformat_minor": 0,
  "metadata": {
    "colab": {
      "provenance": []
    },
    "kernelspec": {
      "name": "python3",
      "display_name": "Python 3"
    },
    "language_info": {
      "name": "python"
    }
  },
  "cells": [
    {
      "cell_type": "code",
      "execution_count": null,
      "metadata": {
        "id": "cj04Mgug3YFg"
      },
      "outputs": [],
      "source": [
        "import pandas as pd\n",
        "import numpy as np\n",
        "\n",
        "import matplotlib.pyplot as plt\n",
        "import seaborn as sns\n",
        "\n",
        "sns.set_style('whitegrid')"
      ]
    },
    {
      "cell_type": "code",
      "source": [
        "import yfinance as yf\n",
        "from datetime import datetime"
      ],
      "metadata": {
        "id": "u9HQ6J-G3tuy"
      },
      "execution_count": null,
      "outputs": []
    },
    {
      "cell_type": "code",
      "source": [
        "tech_list = ['AAPL', 'GOOG', 'MSFT', 'AMZN', 'NVDA']\n",
        "\n",
        "end = datetime.now()\n",
        "start = datetime(end.year - 2, end.month,end.day)\n",
        "print(end, start)"
      ],
      "metadata": {
        "id": "D1E6zQZk7pkr"
      },
      "execution_count": null,
      "outputs": []
    },
    {
      "cell_type": "code",
      "source": [
        "ticker = yf.Ticker('AAPL')\n",
        "data = ticker.history(period='1d', start=start, end=end)"
      ],
      "metadata": {
        "id": "bkBPMWqC7pYK"
      },
      "execution_count": null,
      "outputs": []
    },
    {
      "cell_type": "code",
      "source": [
        "data.head()"
      ],
      "metadata": {
        "id": "3TWKr-eN7pI1"
      },
      "execution_count": null,
      "outputs": []
    },
    {
      "cell_type": "code",
      "source": [
        "data.tail()"
      ],
      "metadata": {
        "id": "5-rEQPYO77WN"
      },
      "execution_count": null,
      "outputs": []
    },
    {
      "cell_type": "code",
      "source": [
        "for company in tech_list:\n",
        "    ticker =  yf.Ticker(company)\n",
        "    globals()[company] = ticker.history(period='1d', start=start, end=end)"
      ],
      "metadata": {
        "id": "bgO4EgDV7_zq"
      },
      "execution_count": null,
      "outputs": []
    },
    {
      "cell_type": "code",
      "source": [
        "AAPL"
      ],
      "metadata": {
        "id": "qeN5Y0zv7_wU"
      },
      "execution_count": null,
      "outputs": []
    },
    {
      "cell_type": "code",
      "source": [
        "GOOG"
      ],
      "metadata": {
        "id": "eZpi-H6k7_tK"
      },
      "execution_count": null,
      "outputs": []
    },
    {
      "cell_type": "code",
      "source": [
        "NVDA.describe()"
      ],
      "metadata": {
        "id": "xU97PkNr7_p6"
      },
      "execution_count": null,
      "outputs": []
    },
    {
      "cell_type": "code",
      "source": [
        "GOOG.describe()"
      ],
      "metadata": {
        "id": "dYs6r_A88Vqn"
      },
      "execution_count": null,
      "outputs": []
    },
    {
      "cell_type": "code",
      "source": [
        "AAPL['Close'].plot(legend=True, figsize=(14,6))\n",
        "plt.show()"
      ],
      "metadata": {
        "id": "Gi6C3hE18Vhg"
      },
      "execution_count": null,
      "outputs": []
    },
    {
      "cell_type": "code",
      "source": [
        "AAPL[['Open','Close', 'High', 'Low']].plot(legend=True, figsize=(14,6))\n",
        "plt.show()"
      ],
      "metadata": {
        "id": "SRzAmuV68iSN"
      },
      "execution_count": null,
      "outputs": []
    },
    {
      "cell_type": "code",
      "source": [
        "plt.figure(figsize=(20,8))\n",
        "AAPL['Close'].plot(label=\"Apple\")\n",
        "GOOG['Close'].plot(label=\"Google\")\n",
        "MSFT['Close'].plot(label=\"Microsoft\")\n",
        "AMZN['Close'].plot(label=\"Amazon\")\n",
        "NVDA['Close'].plot(label=\"Nvidia\")\n",
        "\n",
        "plt.title(\"Tech stock price in last two years\", fontsize=16)\n",
        "plt.legend()\n",
        "plt.show()"
      ],
      "metadata": {
        "id": "QCzlDK1G8oe0"
      },
      "execution_count": null,
      "outputs": []
    },
    {
      "cell_type": "code",
      "source": [
        "plt.figure(figsize=(20,8))\n",
        "AAPL['Volume'].plot(label=\"Apple\")\n",
        "GOOG['Volume'].plot(label=\"Google\")\n",
        "MSFT['Volume'].plot(label=\"Microsoft\")\n",
        "AMZN['Volume'].plot(label=\"Amazon\")\n",
        "NVDA['Volume'].plot(label=\"Nvidia\")\n",
        "\n",
        "plt.title(\"Tech stock volume in last two years\", fontsize=16)\n",
        "plt.legend()\n",
        "plt.show()"
      ],
      "metadata": {
        "id": "ty92uL6U8srV"
      },
      "execution_count": null,
      "outputs": []
    },
    {
      "cell_type": "code",
      "source": [
        "ma_day = [10, 20, 50]\n",
        "\n",
        "tech_stock_data = [AAPL, GOOG, MSFT, AMZN, NVDA]\n",
        "\n",
        "for stock in tech_stock_data:\n",
        "    for ma in ma_day:\n",
        "        column_name = f\"MA_for_{ma}_day\"\n",
        "        stock[column_name] = pd.DataFrame.rolling(stock['Close'], ma).mean()"
      ],
      "metadata": {
        "id": "AlbGTicz8xeW"
      },
      "execution_count": null,
      "outputs": []
    },
    {
      "cell_type": "code",
      "source": [
        "AAPL.head(50)"
      ],
      "metadata": {
        "id": "QqZnH90m89di"
      },
      "execution_count": null,
      "outputs": []
    },
    {
      "cell_type": "code",
      "source": [
        "AAPL[['Close', 'MA_for_10_day', 'MA_for_20_day', 'MA_for_50_day']].plot(subplots=False, figsize=(14,6))\n",
        "\n",
        "plt.show()"
      ],
      "metadata": {
        "id": "bLKigqPH9CR6"
      },
      "execution_count": null,
      "outputs": []
    },
    {
      "cell_type": "code",
      "source": [
        "GOOG[['Close', 'MA_for_10_day', 'MA_for_20_day', 'MA_for_50_day']].plot(subplots=False, figsize=(14,6))\n",
        "\n",
        "plt.show()"
      ],
      "metadata": {
        "id": "wkWhwPDn9GYs"
      },
      "execution_count": null,
      "outputs": []
    },
    {
      "cell_type": "code",
      "source": [
        "plt.figure(figsize=(20,8))\n",
        "\n",
        "for i, stock in enumerate(tech_stock_data):\n",
        "    stock['MA_for_20_day'].plot(label=tech_list[i])\n",
        "\n",
        "plt.legend()\n",
        "plt.title('MA for 20 days of different stocks', fontsize = 16)\n",
        "plt.show()"
      ],
      "metadata": {
        "id": "RnHkAHfR9RuO"
      },
      "execution_count": null,
      "outputs": []
    },
    {
      "cell_type": "code",
      "source": [
        "for stock in tech_stock_data:\n",
        "    stock['daily_return'] = stock['Close'].pct_change()"
      ],
      "metadata": {
        "id": "dIq1THIY9THz"
      },
      "execution_count": null,
      "outputs": []
    },
    {
      "cell_type": "code",
      "source": [
        "AAPL['daily_return'].plot(figsize=(14,6), legend=True, linestyle='--', marker='o')\n",
        "plt.show()"
      ],
      "metadata": {
        "id": "enpLcQmi9S59"
      },
      "execution_count": null,
      "outputs": []
    },
    {
      "cell_type": "code",
      "source": [
        "sns.displot(AAPL['daily_return'].dropna(), bins=100, color='blue', kde=True)\n",
        "plt.show()"
      ],
      "metadata": {
        "id": "rroJmJmc9bQ6"
      },
      "execution_count": null,
      "outputs": []
    },
    {
      "cell_type": "code",
      "source": [
        "GOOG['daily_return'].plot(figsize=(14,6), legend=True, linestyle='--', marker='o')\n",
        "plt.show()"
      ],
      "metadata": {
        "id": "k7uQP9EN9eoj"
      },
      "execution_count": null,
      "outputs": []
    },
    {
      "cell_type": "code",
      "source": [
        "sns.displot(GOOG['daily_return'].dropna(), bins=100, color='blue', kde=True)\n",
        "plt.show()"
      ],
      "metadata": {
        "id": "yk6Zl7K39jKa"
      },
      "execution_count": null,
      "outputs": []
    },
    {
      "cell_type": "code",
      "source": [
        "sns.displot(NVDA['daily_return'].dropna(), bins=100, color='blue', kde=True)\n",
        "plt.show()"
      ],
      "metadata": {
        "id": "uU_v4G2I9nvX"
      },
      "execution_count": null,
      "outputs": []
    },
    {
      "cell_type": "code",
      "source": [
        "sns.displot(AMZN['daily_return'].dropna(), bins=100, color='blue', kde=True)\n",
        "plt.show()"
      ],
      "metadata": {
        "id": "GcPoph9j9s4R"
      },
      "execution_count": null,
      "outputs": []
    },
    {
      "cell_type": "code",
      "source": [
        "closing_df1 = pd.DataFrame(AAPL['Close'])\n",
        "close1  = closing_df1.rename(columns={\"Close\": \"AAPL_close\"})\n",
        "\n",
        "closing_df2 = pd.DataFrame(GOOG['Close'])\n",
        "close2  = closing_df2.rename(columns={\"Close\": \"GOOG_close\"})\n",
        "\n",
        "closing_df3 = pd.DataFrame(MSFT['Close'])\n",
        "close3  = closing_df3.rename(columns={\"Close\": \"MSFT_close\"})\n",
        "\n",
        "closing_df4 = pd.DataFrame(AMZN['Close'])\n",
        "close4  = closing_df4.rename(columns={\"Close\": \"AMZN_close\"})\n",
        "\n",
        "closing_df5 = pd.DataFrame(NVDA['Close'])\n",
        "close5  = closing_df5.rename(columns={\"Close\": \"NVDA_close\"})\n",
        "\n",
        "closing_df = pd.concat([close1, close2, close3, close4, close5], axis=1)\n",
        "closing_df.head()"
      ],
      "metadata": {
        "id": "N4eB0Soo9xXS"
      },
      "execution_count": null,
      "outputs": []
    },
    {
      "cell_type": "code",
      "source": [
        "tech_returns = closing_df.pct_change()\n",
        "\n",
        "tech_returns"
      ],
      "metadata": {
        "id": "3I6H29Qs92wC"
      },
      "execution_count": null,
      "outputs": []
    },
    {
      "cell_type": "code",
      "source": [
        "sns.jointplot(x=closing_df['GOOG_close'], y=closing_df['MSFT_close'], kind='scatter')\n",
        "\n",
        "plt.show()"
      ],
      "metadata": {
        "id": "LEAJ--Uw964s"
      },
      "execution_count": null,
      "outputs": []
    },
    {
      "cell_type": "code",
      "source": [
        "closing_df.corr()"
      ],
      "metadata": {
        "id": "OXueT7pb9-sL"
      },
      "execution_count": null,
      "outputs": []
    },
    {
      "cell_type": "code",
      "source": [
        "sns.pairplot(closing_df)\n",
        "plt.show()"
      ],
      "metadata": {
        "id": "Mngl6Z1K-B9Q"
      },
      "execution_count": null,
      "outputs": []
    },
    {
      "cell_type": "code",
      "source": [
        "sns.pairplot(tech_returns)"
      ],
      "metadata": {
        "id": "vSslDlaT-FZW"
      },
      "execution_count": null,
      "outputs": []
    },
    {
      "cell_type": "code",
      "source": [
        "import warnings\n",
        "warnings.filterwarnings('ignore')\n",
        "\n",
        "returns_fig = sns.PairGrid(tech_returns.dropna())\n",
        "\n",
        "returns_fig.map_upper(plt.scatter,color='purple')\n",
        "\n",
        "returns_fig.map_lower(sns.kdeplot,cmap='cool_d')\n",
        "\n",
        "returns_fig.map_diag(plt.hist,bins=30)\n",
        "\n",
        "\n",
        "plt.show()"
      ],
      "metadata": {
        "id": "fcGloxbS-LCC"
      },
      "execution_count": null,
      "outputs": []
    },
    {
      "cell_type": "code",
      "source": [
        "returns_fig = sns.PairGrid(closing_df)\n",
        "\n",
        "returns_fig.map_upper(plt.scatter,color='purple')\n",
        "\n",
        "\n",
        "returns_fig.map_lower(sns.kdeplot,cmap='cool_d')\n",
        "\n",
        "returns_fig.map_diag(plt.hist,bins=30)\n",
        "\n",
        "plt.show()"
      ],
      "metadata": {
        "id": "FmrdXGKF-K59"
      },
      "execution_count": null,
      "outputs": []
    },
    {
      "cell_type": "code",
      "source": [
        "tech_returns.dropna().corr()"
      ],
      "metadata": {
        "id": "AbZ3O76B-TDl"
      },
      "execution_count": null,
      "outputs": []
    },
    {
      "cell_type": "code",
      "source": [
        "\n",
        "corr = tech_returns.dropna().corr()\n",
        "mask = np.zeros_like(corr)\n",
        "mask[np.triu_indices_from(mask)] = True\n",
        "\n",
        "fig, ax = plt.subplots(figsize=(11, 9))\n",
        "\n",
        "cmap = sns.diverging_palette(220, 10, as_cmap=True)\n",
        "\n",
        "sns.heatmap(corr, mask=mask, cmap=cmap, annot = True)\n",
        "plt.title(\"Correlation in the tech returns\")\n",
        "plt.show()"
      ],
      "metadata": {
        "id": "jWqSLz8R-S7x"
      },
      "execution_count": null,
      "outputs": []
    }
  ]
}